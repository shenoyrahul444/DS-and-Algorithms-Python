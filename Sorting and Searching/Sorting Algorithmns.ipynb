{
 "cells": [
  {
   "cell_type": "code",
   "execution_count": null,
   "metadata": {
    "collapsed": true
   },
   "outputs": [],
   "source": [
    "class Solution:\n",
    "    def wordPattern(self, pattern, str):\n",
    "        \n",
    "        words = str.split(\" \")\n",
    "        \n",
    "        # Base check\n",
    "        # if len(words) != len(str):\n",
    "        #     return False\n",
    "        \n",
    "        map_dict = {}\n",
    "        \n",
    "        for i in range(len(words)-1):\n",
    "            if words[i] in map_dict.keys():\n",
    "                if map_dict[words[i]] != str[i]:\n",
    "                    return False\n",
    "            else:\n",
    "                map_dict[words[i]] = str[i]\n",
    "                \n",
    "        return True\n",
    "                \n",
    "            \n",
    "            "
   ]
  },
  {
   "cell_type": "markdown",
   "metadata": {},
   "source": [
    "# Sorting Techniques\n",
    "\n",
    "Resources: https://visualgo.net/en/sorting\n",
    "\n",
    "## 1> Bubble Sort  \n",
    "\n",
    "    With Every iteration, the max or min element will reach the end of the list. Also, then number of checks for maximum number will decrease with every iteration (elements conitunuouslly get arranged).\n",
    "    Therefore, 1 outer loop INV PROP to 1 dependent inner loop \n",
    "    \n",
    "## 2> Insertion Sort  \n",
    "\n",
    "    WIth every iteration, the maximum element is found out and placed at the end. Number of iterations = Number of elements\n",
    "    \n",
    "## 3> Merge Sort\n",
    "\n",
    "    Function divides Array is divided into 2 parts(left and right) and is recursively called until 1 element arrays are obtained. \n",
    "    Then created sorted arrays at a granular level, and build their way up. This way we get all-sorted elements\n",
    "    "
   ]
  },
  {
   "cell_type": "markdown",
   "metadata": {},
   "source": [
    "\n",
    "# Bubble Sort\n",
    "\n",
    "The bubble sort makes multiple passes through a list. It compares adjacent items and exchanges those that are out of order. Each pass through the list places the next largest value in its proper place. In essence, each item “bubbles” up to the location where it belongs."
   ]
  },
  {
   "cell_type": "code",
   "execution_count": 50,
   "metadata": {
    "collapsed": false
   },
   "outputs": [
    {
     "name": "stdout",
     "output_type": "stream",
     "text": [
      "[1, 2, 3, 4, 5, 6, 7, 8]\n",
      "[9, 8, 7, 6, 5, 4, 3, 2]\n"
     ]
    }
   ],
   "source": [
    "# ak = [k for k in range(9,1,-1)]\n",
    "ak = [k for k in range(1,9)]\n",
    "print(ak)\n",
    "ak = [k for k in range(9,1,-1)]\n",
    "print(ak)\n",
    "\n",
    "\n",
    "# ak\n",
    "# for k in range(9,1,-1):\n",
    "#     print(k)"
   ]
  },
  {
   "cell_type": "code",
   "execution_count": 13,
   "metadata": {
    "collapsed": false
   },
   "outputs": [
    {
     "name": "stdout",
     "output_type": "stream",
     "text": [
      "[3, 2, 13, 4, 6, 5, 7, 8, 1, 20]\n",
      "[1, 2, 3, 4, 5, 6, 7, 8, 13, 20]\n",
      "[1, 2, 3, 4, 5, 6, 7, 8, 13, 20]\n",
      "[20, 5, 7, 4, 5, 6, 7, 8, 13, 20]\n"
     ]
    }
   ],
   "source": [
    "def bubble_sort(arr):\n",
    "    \n",
    "    for i in range(1,len(arr)):\n",
    "        for k in range(len(arr)-i):\n",
    "            if arr[k] > arr[k+1]:\n",
    "                temp = arr[k] \n",
    "                arr[k] = arr[k+1]\n",
    "                arr[k+1] = temp\n",
    "            \n",
    "    return arr\n",
    "arr = [3,2,13,4,6,5,7,8,1,20]\n",
    "print(arr)\n",
    "print(bubble_sort(arr))\n",
    "    \n",
    "    \n",
    "def insertion_sort(arr):\n",
    "    for n in range(1, len(arr)):\n",
    "        current_element = arr[n]\n",
    "        current_position = n\n",
    "        \n",
    "        while current_position > 0 and arr[current_position-1]>arr[current_position]:\n",
    "            arr[current_position] = arr[current_position-1]\n",
    "            current_position -= 1\n",
    "        \n",
    "        arr[current_position]= current_element\n",
    "    return arr\n",
    "\n",
    "print(insertion_sort(arr))\n",
    "    \n",
    "    \n",
    "    \n",
    "def merge_sort(arr):\n",
    "    if len(arr)>1:\n",
    "        mid = len(arr)//2\n",
    "        lefthalf = arr[:mid]\n",
    "        righthalf = arr[mid:]\n",
    "        \n",
    "        merge_sort(lefthalf)\n",
    "        merge_sort(righthalf)\n",
    "        \n",
    "        i = 0\n",
    "        j = 0\n",
    "        k = 0\n",
    "        \n",
    "        if i < len(lefthalf) and j < len(righthalf):\n",
    "            if lefthalf[i] > righthalf[j]:\n",
    "                arr[k] = lefthalf[i]\n",
    "                i+= 1\n",
    "            else:\n",
    "                arr[k] = righthalf[j]\n",
    "                j+=1\n",
    "            k += 1\n",
    "        \n",
    "        if i < len(lefthalf):\n",
    "            arr[k] = lefthalf[i]\n",
    "            k+=1 \n",
    "            i+=1\n",
    "        if j < len(righthalf):\n",
    "            arr[k] = righthalf[j]\n",
    "            j+=1\n",
    "            k+=1 \n",
    "        \n",
    "#         return arr\n",
    "        \n",
    "merge_sort(arr)\n",
    "print(arr)\n",
    "    "
   ]
  },
  {
   "cell_type": "markdown",
   "metadata": {},
   "source": [
    "### Every pass bubles the largest variable to the top of the list\n"
   ]
  },
  {
   "cell_type": "markdown",
   "metadata": {
    "collapsed": true
   },
   "source": [
    "       \n",
    "def my_bubble_sort(arr):\n",
    "    for n in range(1,len(arr)):\n",
    "        for k in range(len(arr) - n):    \n",
    "            if arr[k] > arr[k+1]:\n",
    "                temp = arr[k]\n",
    "                arr[k] = arr[k+1]\n",
    "                arr[k+1] = temp\n",
    "    return arr"
   ]
  },
  {
   "cell_type": "code",
   "execution_count": 2,
   "metadata": {
    "collapsed": false
   },
   "outputs": [
    {
     "name": "stdout",
     "output_type": "stream",
     "text": [
      "[3, 2, 13, 4, 6, 5, 7, 8, 1, 20]\n",
      "[1, 2, 3, 4, 5, 6, 7, 8, 13, 20]\n"
     ]
    }
   ],
   "source": [
    "arr = [3,2,13,4,6,5,7,8,1,20]\n",
    "\n",
    "print(arr)\n",
    "print(my_bubble_sort(arr))"
   ]
  },
  {
   "cell_type": "markdown",
   "metadata": {
    "collapsed": true
   },
   "source": [
    "def bubble_sort(arr):\n",
    "    # For every element (arranged backwards)\n",
    "    for n in range(len(arr)-1,0,-1):\n",
    "        #\n",
    "        for k in range(n):\n",
    "            # If we come to a point to switch\n",
    "            if arr[k]>arr[k+1]:\n",
    "                temp = arr[k]\n",
    "                arr[k] = arr[k+1]\n",
    "                arr[k+1] = temp"
   ]
  },
  {
   "cell_type": "code",
   "execution_count": 7,
   "metadata": {
    "collapsed": true
   },
   "outputs": [],
   "source": [
    "arr = [3,2,13,4,6,5,7,8,1,20]\n",
    "bubble_sort(arr)"
   ]
  },
  {
   "cell_type": "code",
   "execution_count": 8,
   "metadata": {
    "collapsed": false
   },
   "outputs": [
    {
     "data": {
      "text/plain": [
       "[1, 2, 3, 4, 5, 6, 7, 8, 13, 20]"
      ]
     },
     "execution_count": 8,
     "metadata": {},
     "output_type": "execute_result"
    }
   ],
   "source": [
    "arr"
   ]
  },
  {
   "cell_type": "markdown",
   "metadata": {},
   "source": [
    "# 2> Insertion Sort"
   ]
  },
  {
   "cell_type": "markdown",
   "metadata": {},
   "source": [
    "For every iteration, check if elements prior to it have greater value. Sorting the list at every position in the iteration.\n"
   ]
  },
  {
   "cell_type": "code",
   "execution_count": 73,
   "metadata": {
    "collapsed": true
   },
   "outputs": [],
   "source": [
    "def insertion_sort(arr):\n",
    "    for n in range(1,len(arr)):\n",
    "        curren_element = arr[n]  # <- To be applied to element where the movement stops\n",
    "        \n",
    "        current_position = n\n",
    "        \n",
    "        while current_position > 0 and arr[current_position - 1] > curren_element:\n",
    "            arr[current_position] = arr[current_position - 1]\n",
    "            current_position -= 1\n",
    "            print(arr)\n",
    "        \n",
    "        arr[current_position] = curren_element\n",
    "        print(\"After {} iteration completes: {} \".format(n,arr))\n",
    "        \n",
    "        \n",
    "        "
   ]
  },
  {
   "cell_type": "code",
   "execution_count": 75,
   "metadata": {
    "collapsed": false
   },
   "outputs": [
    {
     "name": "stdout",
     "output_type": "stream",
     "text": [
      "[3, 3, 13, 4, 6, 5, 7, 8, 1, 22]\n",
      "After 1 iteration completes: [2, 3, 13, 4, 6, 5, 7, 8, 1, 22] \n",
      "After 2 iteration completes: [2, 3, 13, 4, 6, 5, 7, 8, 1, 22] \n",
      "[2, 3, 13, 13, 6, 5, 7, 8, 1, 22]\n",
      "After 3 iteration completes: [2, 3, 4, 13, 6, 5, 7, 8, 1, 22] \n",
      "[2, 3, 4, 13, 13, 5, 7, 8, 1, 22]\n",
      "After 4 iteration completes: [2, 3, 4, 6, 13, 5, 7, 8, 1, 22] \n",
      "[2, 3, 4, 6, 13, 13, 7, 8, 1, 22]\n",
      "[2, 3, 4, 6, 6, 13, 7, 8, 1, 22]\n",
      "After 5 iteration completes: [2, 3, 4, 5, 6, 13, 7, 8, 1, 22] \n",
      "[2, 3, 4, 5, 6, 13, 13, 8, 1, 22]\n",
      "After 6 iteration completes: [2, 3, 4, 5, 6, 7, 13, 8, 1, 22] \n",
      "[2, 3, 4, 5, 6, 7, 13, 13, 1, 22]\n",
      "After 7 iteration completes: [2, 3, 4, 5, 6, 7, 8, 13, 1, 22] \n",
      "[2, 3, 4, 5, 6, 7, 8, 13, 13, 22]\n",
      "[2, 3, 4, 5, 6, 7, 8, 8, 13, 22]\n",
      "[2, 3, 4, 5, 6, 7, 7, 8, 13, 22]\n",
      "[2, 3, 4, 5, 6, 6, 7, 8, 13, 22]\n",
      "[2, 3, 4, 5, 5, 6, 7, 8, 13, 22]\n",
      "[2, 3, 4, 4, 5, 6, 7, 8, 13, 22]\n",
      "[2, 3, 3, 4, 5, 6, 7, 8, 13, 22]\n",
      "[2, 2, 3, 4, 5, 6, 7, 8, 13, 22]\n",
      "After 8 iteration completes: [1, 2, 3, 4, 5, 6, 7, 8, 13, 22] \n",
      "After 9 iteration completes: [1, 2, 3, 4, 5, 6, 7, 8, 13, 22] \n"
     ]
    }
   ],
   "source": [
    "insertion_sort(arr)\n",
    "\n",
    "arr = [3,2,13,4,6,5,7,8,1,22]"
   ]
  },
  {
   "cell_type": "markdown",
   "metadata": {
    "collapsed": true
   },
   "source": [
    "## 3> Merge Sort"
   ]
  },
  {
   "cell_type": "code",
   "execution_count": 10,
   "metadata": {
    "collapsed": true
   },
   "outputs": [],
   "source": [
    "def merge_sort(arr):\n",
    "    if len(arr)> 1:\n",
    "        \n",
    "        mid = len(arr)//2\n",
    "        lefthalf = arr[:mid]\n",
    "        righthalf = arr[mid:]\n",
    "        merge_sort(lefthalf)\n",
    "        merge_sort(righthalf)\n",
    "        \n",
    "        i = 0\n",
    "        j = 0 \n",
    "        k = 0\n",
    "        \n",
    "        while i< len(lefthalf) and j < len(righthalf):\n",
    "            if lefthalf[i] < righthalf[j]:\n",
    "                arr[k] = lefthalf[i]\n",
    "                i+= 1\n",
    "            else:\n",
    "                arr[k] = righthalf[j]\n",
    "                j+= 1\n",
    "            k += 1\n",
    "            \n",
    "        \n",
    "        while i< len(lefthalf):\n",
    "            arr[k] = lefthalf[i]\n",
    "            i+= 1\n",
    "            k+= 1\n",
    "        \n",
    "        while j < len(righthalf):\n",
    "            arr[k] = righthalf[j]\n",
    "            j+= 1\n",
    "            k += 1\n",
    "            \n",
    "        "
   ]
  },
  {
   "cell_type": "markdown",
   "metadata": {},
   "source": [
    "## Testing phase"
   ]
  },
  {
   "cell_type": "code",
   "execution_count": 11,
   "metadata": {
    "collapsed": false
   },
   "outputs": [
    {
     "data": {
      "text/plain": [
       "[1, 2, 3, 4, 5, 6, 7, 8, 13, 20]"
      ]
     },
     "execution_count": 11,
     "metadata": {},
     "output_type": "execute_result"
    }
   ],
   "source": [
    "arr_merge = [3,2,13,4,6,5,7,8,1,20]\n",
    "merge_sort(arr_merge)\n",
    "arr_merge"
   ]
  }
 ],
 "metadata": {
  "kernelspec": {
   "display_name": "Python [default]",
   "language": "python",
   "name": "python3"
  },
  "language_info": {
   "codemirror_mode": {
    "name": "ipython",
    "version": 3
   },
   "file_extension": ".py",
   "mimetype": "text/x-python",
   "name": "python",
   "nbconvert_exporter": "python",
   "pygments_lexer": "ipython3",
   "version": "3.6.0"
  }
 },
 "nbformat": 4,
 "nbformat_minor": 1
}
