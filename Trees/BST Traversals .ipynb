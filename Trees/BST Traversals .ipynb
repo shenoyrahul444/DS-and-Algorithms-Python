{
 "cells": [
  {
   "cell_type": "markdown",
   "metadata": {},
   "source": [
    "### There are maily three ways of Tree Traversals\n",
    "#### 1> Inorder (Top to Bottom)\n",
    "#### 2> Preorder (Smallest to Largest)\n",
    "#### 3> PostOrder (Largest to Smallest)"
   ]
  },
  {
   "cell_type": "markdown",
   "metadata": {},
   "source": [
    "## Defining the BinaryTree Class"
   ]
  },
  {
   "cell_type": "code",
   "execution_count": 1,
   "metadata": {
    "collapsed": true
   },
   "outputs": [],
   "source": [
    "class BinaryTree(object):\n",
    "    def __init__(self,val):\n",
    "        self.key = val\n",
    "        self.leftChild = None\n",
    "        self.rightChild = None\n",
    "    \n",
    "    def insertLeftChild(self,val):\n",
    "        \n",
    "        if self.leftChild:\n",
    "            t = BinaryTree(val)\n",
    "            t.leftChild = self.leftChild\n",
    "            self.leftChild = t\n",
    "        else:\n",
    "            self.leftChild = BinaryTree(val)\n",
    "        \n",
    "    def insertRightChild(self,val):\n",
    "        \n",
    "        if self.rightChild:\n",
    "            t = BinaryTree(val)\n",
    "            t.rightChild = self.rightChild\n",
    "            self.rightChild = t\n",
    "        else:\n",
    "            self.rightChild = BinaryTree(val)\n",
    "        \n",
    "    def getRightChild(self):\n",
    "        return self.rightChild\n",
    "    \n",
    "    def getLeftChild(self):\n",
    "        return self.leftChild\n",
    "    \n",
    "    def getRootVal(self):\n",
    "        return self.key\n",
    "    \n",
    "    def setRootVal(self,val):\n",
    "        self.key = val\n",
    "    \n",
    "    \n",
    "    "
   ]
  },
  {
   "cell_type": "markdown",
   "metadata": {},
   "source": [
    "### Inserting Data to Binary Tree"
   ]
  },
  {
   "cell_type": "code",
   "execution_count": 62,
   "metadata": {
    "collapsed": true
   },
   "outputs": [],
   "source": [
    "t = BinaryTree(3)"
   ]
  },
  {
   "cell_type": "code",
   "execution_count": 64,
   "metadata": {
    "collapsed": false
   },
   "outputs": [
    {
     "data": {
      "text/plain": [
       "__main__.BinaryTree"
      ]
     },
     "execution_count": 64,
     "metadata": {},
     "output_type": "execute_result"
    }
   ],
   "source": [
    "type(t)"
   ]
  },
  {
   "cell_type": "code",
   "execution_count": 65,
   "metadata": {
    "collapsed": false
   },
   "outputs": [],
   "source": [
    "t.leftChild"
   ]
  },
  {
   "cell_type": "code",
   "execution_count": null,
   "metadata": {
    "collapsed": true
   },
   "outputs": [],
   "source": []
  },
  {
   "cell_type": "code",
   "execution_count": 66,
   "metadata": {
    "collapsed": false
   },
   "outputs": [
    {
     "name": "stdout",
     "output_type": "stream",
     "text": [
      "None\n",
      "None\n"
     ]
    }
   ],
   "source": [
    "print(t.leftChild)\n",
    "print(t.rightChild)"
   ]
  },
  {
   "cell_type": "code",
   "execution_count": 67,
   "metadata": {
    "collapsed": true
   },
   "outputs": [],
   "source": [
    "t.insertLeftChild(1)\n",
    "t.insertRightChild(5)"
   ]
  },
  {
   "cell_type": "code",
   "execution_count": 68,
   "metadata": {
    "collapsed": true
   },
   "outputs": [],
   "source": [
    "t.leftChild.insertLeftChild(0)\n",
    "t.leftChild.insertRightChild(2)\n",
    "t.rightChild.insertLeftChild(4)\n",
    "t.rightChild.insertRightChild(6)"
   ]
  },
  {
   "cell_type": "markdown",
   "metadata": {},
   "source": [
    "## Preorder Traversal (Smallest => Largets)"
   ]
  },
  {
   "cell_type": "code",
   "execution_count": 69,
   "metadata": {
    "collapsed": true
   },
   "outputs": [],
   "source": [
    "def preorder_traversal(tree):\n",
    "    if tree:\n",
    "        \n",
    "        preorder_traversal(tree.leftChild)\n",
    "        print(tree.key)\n",
    "        preorder_traversal(tree.rightChild)\n",
    "    \n",
    "    "
   ]
  },
  {
   "cell_type": "code",
   "execution_count": 70,
   "metadata": {
    "collapsed": false
   },
   "outputs": [
    {
     "name": "stdout",
     "output_type": "stream",
     "text": [
      "0\n",
      "1\n",
      "2\n",
      "3\n",
      "4\n",
      "5\n",
      "6\n"
     ]
    }
   ],
   "source": [
    "preorder_traversal(t)"
   ]
  },
  {
   "cell_type": "markdown",
   "metadata": {},
   "source": [
    "## Inorder Traversal (Root to Leaves)"
   ]
  },
  {
   "cell_type": "code",
   "execution_count": 71,
   "metadata": {
    "collapsed": true
   },
   "outputs": [],
   "source": [
    "def inorder_traversal(tree):\n",
    "    if tree:\n",
    "        print(tree.key)\n",
    "        inorder_traversal(tree.leftChild)\n",
    "        inorder_traversal(tree.rightChild)\n",
    "    \n",
    "    "
   ]
  },
  {
   "cell_type": "code",
   "execution_count": 72,
   "metadata": {
    "collapsed": false
   },
   "outputs": [
    {
     "name": "stdout",
     "output_type": "stream",
     "text": [
      "3\n",
      "1\n",
      "0\n",
      "2\n",
      "5\n",
      "4\n",
      "6\n"
     ]
    }
   ],
   "source": [
    "inorder_traversal(t)"
   ]
  },
  {
   "cell_type": "markdown",
   "metadata": {},
   "source": [
    "## Postorder Traversal (Leaves => root)"
   ]
  },
  {
   "cell_type": "code",
   "execution_count": 75,
   "metadata": {
    "collapsed": true
   },
   "outputs": [],
   "source": [
    "def postorder_traversal(tree):\n",
    "    if tree:\n",
    "\n",
    "        postorder_traversal(tree.leftChild)\n",
    "        postorder_traversal(tree.rightChild)\n",
    "        print(tree.key)"
   ]
  },
  {
   "cell_type": "code",
   "execution_count": 77,
   "metadata": {
    "collapsed": false
   },
   "outputs": [
    {
     "name": "stdout",
     "output_type": "stream",
     "text": [
      "0\n",
      "2\n",
      "1\n",
      "4\n",
      "6\n",
      "5\n",
      "3\n"
     ]
    }
   ],
   "source": [
    "postorder_traversal(t)"
   ]
  },
  {
   "cell_type": "code",
   "execution_count": null,
   "metadata": {
    "collapsed": true
   },
   "outputs": [],
   "source": []
  },
  {
   "cell_type": "code",
   "execution_count": null,
   "metadata": {
    "collapsed": true
   },
   "outputs": [],
   "source": []
  }
 ],
 "metadata": {
  "kernelspec": {
   "display_name": "Python [conda root]",
   "language": "python",
   "name": "conda-root-py"
  },
  "language_info": {
   "codemirror_mode": {
    "name": "ipython",
    "version": 3
   },
   "file_extension": ".py",
   "mimetype": "text/x-python",
   "name": "python",
   "nbconvert_exporter": "python",
   "pygments_lexer": "ipython3",
   "version": "3.6.0"
  }
 },
 "nbformat": 4,
 "nbformat_minor": 2
}
