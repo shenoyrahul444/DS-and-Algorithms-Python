{
 "cells": [
  {
   "cell_type": "code",
   "execution_count": 3,
   "metadata": {
    "collapsed": false
   },
   "outputs": [],
   "source": [
    "class BinaryTree(object):\n",
    "    def __init__(self,rootObj):\n",
    "        self.key = rootObj\n",
    "        self.leftChild = None\n",
    "        self.rightChild = None\n",
    "     \n",
    "    def insertLeft(self,newNode):\n",
    "        if self.leftChild == None:\n",
    "            self.leftChild = BinaryTree(newNode)\n",
    "        else:\n",
    "            t = BinaryTree(newNode)\n",
    "            t.leftChild = self.leftChild\n",
    "            self.leftChild = t\n",
    "           \n",
    "        \n",
    "    def insertRight(self,newNode):\n",
    "        \n",
    "        if self.rightChild == None:\n",
    "            self.rightChild = BinaryTree(newNode)\n",
    "        else:\n",
    "            t = BinaryTree(newNode)\n",
    "            t.rightChild = self.rightChild\n",
    "            self.rightChild = t\n",
    "        \n",
    "    def getLeftChild(self):\n",
    "        return self.leftChild\n",
    "    \n",
    "    def getRightChild(self):\n",
    "        return self.rightChild\n",
    "    \n",
    "    def setRootVal(self,val):\n",
    "        self.key = val\n",
    "    \n",
    "    def getRootVal(self):\n",
    "        return self.key\n",
    "        \n",
    "    "
   ]
  },
  {
   "cell_type": "code",
   "execution_count": 39,
   "metadata": {
    "collapsed": true
   },
   "outputs": [],
   "source": [
    "t = BinaryTree(6)"
   ]
  },
  {
   "cell_type": "code",
   "execution_count": 12,
   "metadata": {
    "collapsed": false
   },
   "outputs": [
    {
     "name": "stdout",
     "output_type": "stream",
     "text": [
      "None\n"
     ]
    }
   ],
   "source": [
    "t.key\n",
    "print(t.getLeftChild())"
   ]
  },
  {
   "cell_type": "code",
   "execution_count": 26,
   "metadata": {
    "collapsed": false
   },
   "outputs": [],
   "source": [
    "t.insertLeft(1)"
   ]
  },
  {
   "cell_type": "code",
   "execution_count": 30,
   "metadata": {
    "collapsed": true
   },
   "outputs": [],
   "source": [
    "t.insertRight(71)"
   ]
  },
  {
   "cell_type": "code",
   "execution_count": 37,
   "metadata": {
    "collapsed": false
   },
   "outputs": [],
   "source": [
    "def pre_order_traversal(tree):\n",
    "    if tree:\n",
    "        print(\"Entering Left Child\")\n",
    "        pre_order_traversal(tree.getLeftChild())\n",
    "        \n",
    "        print(tree.key)\n",
    "        \n",
    "        print(\"Entering Right Child\")\n",
    "        pre_order_traversal(tree.getRightChild())"
   ]
  },
  {
   "cell_type": "code",
   "execution_count": 38,
   "metadata": {
    "collapsed": false
   },
   "outputs": [
    {
     "name": "stdout",
     "output_type": "stream",
     "text": [
      "Entering Left Child\n",
      "Entering Left Child\n",
      "Entering Left Child\n",
      "Entering Left Child\n",
      "Entering Left Child\n",
      "Entering Left Child\n",
      "Entering Left Child\n",
      "10\n",
      "Entering Right Child\n",
      "10\n",
      "Entering Right Child\n",
      "125\n",
      "Entering Right Child\n",
      "121\n",
      "Entering Right Child\n",
      "111\n",
      "Entering Right Child\n",
      "1\n",
      "Entering Right Child\n",
      "5\n",
      "Entering Right Child\n",
      "Entering Left Child\n",
      "71\n",
      "Entering Right Child\n",
      "Entering Left Child\n",
      "17\n",
      "Entering Right Child\n",
      "Entering Left Child\n",
      "27\n",
      "Entering Right Child\n",
      "Entering Left Child\n",
      "23\n",
      "Entering Right Child\n",
      "Entering Left Child\n",
      "201\n",
      "Entering Right Child\n",
      "Entering Left Child\n",
      "20\n",
      "Entering Right Child\n"
     ]
    }
   ],
   "source": [
    "pre_order_traversal(t)"
   ]
  }
 ],
 "metadata": {
  "kernelspec": {
   "display_name": "Python [conda root]",
   "language": "python",
   "name": "conda-root-py"
  },
  "language_info": {
   "codemirror_mode": {
    "name": "ipython",
    "version": 3
   },
   "file_extension": ".py",
   "mimetype": "text/x-python",
   "name": "python",
   "nbconvert_exporter": "python",
   "pygments_lexer": "ipython3",
   "version": "3.6.0"
  }
 },
 "nbformat": 4,
 "nbformat_minor": 2
}
