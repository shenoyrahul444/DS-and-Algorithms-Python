{
 "cells": [
  {
   "cell_type": "markdown",
   "metadata": {},
   "source": [
    "## Binary Search Tree has efficient search capabilities\n"
   ]
  },
  {
   "cell_type": "code",
   "execution_count": 13,
   "metadata": {
    "collapsed": false
   },
   "outputs": [],
   "source": [
    "class TreeNode:\n",
    "    \n",
    "    def __init__(self,key,val,left=None,right=None,parent=None):\n",
    "        self.key = key\n",
    "        self.payload = val\n",
    "        self.leftChild = left\n",
    "        self.rightChild = right\n",
    "        self.parent = parent\n",
    "        \n",
    "    def hasLeftChild(self):\n",
    "        return self.leftChild\n",
    "    \n",
    "    def hasRightChild(self):\n",
    "        return self.rightChild\n",
    "    \n",
    "    def isLeftChild(self):\n",
    "        return self.parent and self.parent.leftChild == self\n",
    "    \n",
    "    def isRightChild(self):\n",
    "        return self.parent and self.parent.rightChild == self\n",
    "        \n",
    "    def isRoot(self):\n",
    "        return self.parent == None\n",
    "    \n",
    "    def isLeaf(self):\n",
    "        return not (self.rightChild and self.leftChild)\n",
    "    \n",
    "    def hasAnyChildren(self):\n",
    "        return self.leftChild or self.rightChild\n",
    "    \n",
    "    def hasBothChildren(self):\n",
    "        return self.leftChild and self.rightChild\n",
    "    \n",
    "    def replaceNodeData(self,key,val,r,l,p):\n",
    "        self.key = key\n",
    "        self.payload = val\n",
    "        self.rightChild = r\n",
    "        self.leftChild = l\n",
    "        if self.hasLeftChild():\n",
    "            self.leftChild.parent = self\n",
    "        if self.hasRightChild():\n",
    "            self.rightChild.parent = self\n",
    "\n"
   ]
  },
  {
   "cell_type": "code",
   "execution_count": 153,
   "metadata": {
    "collapsed": false
   },
   "outputs": [],
   "source": [
    "class BinarySearchTree:\n",
    "    def __init__(self):\n",
    "        self.root = None\n",
    "        self.size = 0\n",
    "    \n",
    "    def length(self):\n",
    "        return self.size\n",
    "    \n",
    "    def __len__(self):\n",
    "        return self.size\n",
    "    \n",
    "    def put(self,key,val):\n",
    "        if self.root:\n",
    "            self._put(key,val,self.root)\n",
    "        else:\n",
    "            self.root = TreeNode(key,val)\n",
    "        \n",
    "        self.size += 1\n",
    "            \n",
    "    def _put(self,key,val,currentNode):\n",
    "        \n",
    "        if key < currentNode.key:\n",
    "            if currentNode.hasLeftChild():\n",
    "                self._put(key,val,currentNode.leftChild)\n",
    "            else:    \n",
    "                currentNode.leftChild = TreeNode(key,val,parent=currentNode)\n",
    "        elif key > currentNode.key:\n",
    "            if currentNode.hasRightChild():\n",
    "                self._put(key,val,currentNode.rightChild)\n",
    "            else:\n",
    "                currentNode.rightChild = TreeNode(key,val,parent=currentNode)\n",
    "    \n",
    "    def get(self,key):\n",
    "        if self.root:\n",
    "            target_node = self._get(key,self.root)\n",
    "            print(\"Return Value is: \",target_node.payload)\n",
    "            return target_node.payload\n",
    "        else:\n",
    "            return None\n",
    "        \n",
    "    \n",
    "    def _get(self,key,currentNode):\n",
    "        if key > currentNode.key:\n",
    "            if currentNode.hasRightChild():\n",
    "                print(\"sent for recrusive right\")\n",
    "                return self._get(key,currentNode.rightChild)\n",
    "            else:\n",
    "                return \"Key not found\"\n",
    "        elif key < currentNode.key:\n",
    "            if currentNode.hasLeftChild():\n",
    "                print(\"sent for recrusive left\")\n",
    "                return self._get(key,currentNode.leftChild)\n",
    "            else:\n",
    "                return \"Key not found\"\n",
    "        elif key == currentNode.key:\n",
    "            print('Reached Here',currentNode.payload)\n",
    "            \n",
    "            return currentNode\n",
    "        \n",
    "            \n",
    "        \n",
    "        \n",
    "        \n",
    "            \n",
    "        \n",
    "    \n",
    "    "
   ]
  },
  {
   "cell_type": "code",
   "execution_count": 154,
   "metadata": {
    "collapsed": false
   },
   "outputs": [
    {
     "name": "stdout",
     "output_type": "stream",
     "text": [
      "Reached Here Rahul\n",
      "Return Value is:  Rahul\n",
      "sent for recrusive right\n",
      "Reached Here Urvi\n",
      "Return Value is:  Urvi\n"
     ]
    }
   ],
   "source": [
    "t = BinarySearchTree()\n",
    "\n",
    "t.put(5,\"Rahul\")\n",
    "\n",
    "t.get(5)\n",
    "\n",
    "t.length()\n",
    "\n",
    "len(t)\n",
    "\n",
    "t.put(10,\"Urvi\")\n",
    "\n",
    "t.get(10)\n",
    "\n",
    "t.length()\n",
    "\n",
    "t.put(3,\"Shraddha\")"
   ]
  },
  {
   "cell_type": "code",
   "execution_count": 155,
   "metadata": {
    "collapsed": false
   },
   "outputs": [],
   "source": [
    "# t.get(3)\n",
    "t.put(4,\"Rekha\")\n",
    "# t.get(3)"
   ]
  },
  {
   "cell_type": "code",
   "execution_count": 156,
   "metadata": {
    "collapsed": false
   },
   "outputs": [
    {
     "name": "stdout",
     "output_type": "stream",
     "text": [
      "sent for recrusive left\n",
      "sent for recrusive right\n",
      "Reached Here Rekha\n",
      "Return Value is:  Rekha\n"
     ]
    },
    {
     "data": {
      "text/plain": [
       "'Rekha'"
      ]
     },
     "execution_count": 156,
     "metadata": {},
     "output_type": "execute_result"
    }
   ],
   "source": [
    "t.get(4)"
   ]
  },
  {
   "cell_type": "code",
   "execution_count": 157,
   "metadata": {
    "collapsed": true
   },
   "outputs": [],
   "source": [
    "t.put(2,\"Mukesh\")"
   ]
  },
  {
   "cell_type": "code",
   "execution_count": 158,
   "metadata": {
    "collapsed": false
   },
   "outputs": [
    {
     "name": "stdout",
     "output_type": "stream",
     "text": [
      "sent for recrusive left\n",
      "sent for recrusive left\n",
      "Reached Here Mukesh\n",
      "Return Value is:  Mukesh\n"
     ]
    },
    {
     "data": {
      "text/plain": [
       "'Mukesh'"
      ]
     },
     "execution_count": 158,
     "metadata": {},
     "output_type": "execute_result"
    }
   ],
   "source": [
    "t.get(2)"
   ]
  },
  {
   "cell_type": "code",
   "execution_count": 159,
   "metadata": {
    "collapsed": true
   },
   "outputs": [],
   "source": [
    "t.put(9,'Parveen')\n",
    "t.put(12,'Neerja')\n",
    "t.put(11,'Tina')"
   ]
  },
  {
   "cell_type": "code",
   "execution_count": 161,
   "metadata": {
    "collapsed": false
   },
   "outputs": [
    {
     "name": "stdout",
     "output_type": "stream",
     "text": [
      "sent for recrusive right\n",
      "sent for recrusive right\n",
      "sent for recrusive left\n",
      "Reached Here Tina\n",
      "Return Value is:  Tina\n"
     ]
    },
    {
     "data": {
      "text/plain": [
       "'Tina'"
      ]
     },
     "execution_count": 161,
     "metadata": {},
     "output_type": "execute_result"
    }
   ],
   "source": [
    "t.get(11)"
   ]
  },
  {
   "cell_type": "code",
   "execution_count": 170,
   "metadata": {
    "collapsed": true
   },
   "outputs": [],
   "source": [
    "tt = BinarySearchTree()"
   ]
  },
  {
   "cell_type": "code",
   "execution_count": 176,
   "metadata": {
    "collapsed": false
   },
   "outputs": [],
   "source": [
    "def preorder_traversal(tree):\n",
    "#     if tree.\n",
    "    if tree.root:\n",
    "        _preorder_traversal(tree.root)\n",
    "    else:\n",
    "        print(\"The Tree is empty\")"
   ]
  },
  {
   "cell_type": "code",
   "execution_count": 177,
   "metadata": {
    "collapsed": false
   },
   "outputs": [],
   "source": [
    "def _preorder_traversal(currentNode):\n",
    "    if currentNode:\n",
    "        print(currentNode.key)\n",
    "        _preorder_traversal(currentNode.leftChild)\n",
    "        _preorder_traversal(currentNode.rightChild)\n",
    "        \n",
    "        "
   ]
  },
  {
   "cell_type": "code",
   "execution_count": 178,
   "metadata": {
    "collapsed": false
   },
   "outputs": [
    {
     "name": "stdout",
     "output_type": "stream",
     "text": [
      "5\n",
      "3\n",
      "2\n",
      "4\n",
      "10\n",
      "9\n",
      "12\n",
      "11\n"
     ]
    }
   ],
   "source": [
    "preorder_traversal(t)"
   ]
  },
  {
   "cell_type": "code",
   "execution_count": null,
   "metadata": {
    "collapsed": true
   },
   "outputs": [],
   "source": []
  },
  {
   "cell_type": "code",
   "execution_count": null,
   "metadata": {
    "collapsed": true
   },
   "outputs": [],
   "source": []
  }
 ],
 "metadata": {
  "kernelspec": {
   "display_name": "Python [conda root]",
   "language": "python",
   "name": "conda-root-py"
  },
  "language_info": {
   "codemirror_mode": {
    "name": "ipython",
    "version": 3
   },
   "file_extension": ".py",
   "mimetype": "text/x-python",
   "name": "python",
   "nbconvert_exporter": "python",
   "pygments_lexer": "ipython3",
   "version": "3.6.0"
  }
 },
 "nbformat": 4,
 "nbformat_minor": 2
}
