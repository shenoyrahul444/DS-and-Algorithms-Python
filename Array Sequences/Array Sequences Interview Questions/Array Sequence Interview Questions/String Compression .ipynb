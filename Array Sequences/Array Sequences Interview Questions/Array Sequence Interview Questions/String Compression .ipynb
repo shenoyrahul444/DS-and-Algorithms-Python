{
 "cells": [
  {
   "cell_type": "markdown",
   "metadata": {},
   "source": [
    "# String Compression\n",
    "\n",
    "## Problem\n",
    "\n",
    "Given a string in the form 'AAAABBBBCCCCCDDEEEE' compress it to become 'A4B4C5D2E4'. For this problem, you can falsely \"compress\" strings of single or double letters. For instance, it is okay for 'AAB' to return 'A2B1' even though this technically takes more space. \n",
    "\n",
    "The function should also be case sensitive, so that a string 'AAAaaa' returns 'A3a3'."
   ]
  },
  {
   "cell_type": "markdown",
   "metadata": {},
   "source": [
    "## Solution\n",
    "Fill out your solution below:"
   ]
  },
  {
   "cell_type": "code",
   "execution_count": 56,
   "metadata": {
    "collapsed": false
   },
   "outputs": [],
   "source": [
    "def compress(string):\n",
    "    var_c = []\n",
    "    count_c = [] \n",
    "    compressed_string = \"\"\n",
    "    \n",
    "    prev = 0\n",
    "    current_count = 0\n",
    "    \n",
    "    for i,s in enumerate(string):\n",
    "        \n",
    "        if i == 0:\n",
    "            prev = s\n",
    "            var_c.append(s)\n",
    "            \n",
    "            \n",
    "        if prev == s:\n",
    "            current_count += 1\n",
    "            prev = s\n",
    "            \n",
    "#             print(current_count,prev)\n",
    "        else:\n",
    "            var_c.append(s)\n",
    "            count_c.append(current_count)\n",
    "            current_count = 1\n",
    "            prev = s\n",
    "        \n",
    "        if i == len(string)-1:\n",
    "            count_c.append(current_count)\n",
    "    \n",
    "    print(var_c)\n",
    "    print(count_c)\n",
    "    \n",
    "    \n",
    "    for var,cnt in list(zip(var_c,count_c)):\n",
    "#             print(\"%s%d\" % (var,cnt))\n",
    "            compressed_string = compressed_string + \"%s%d\" % (var,cnt)\n",
    "#             compressed_string=  compressed_string.join(\"{}{}\".format(var,cnt))\n",
    "    return  compressed_string\n",
    "#     pass"
   ]
  },
  {
   "cell_type": "code",
   "execution_count": 53,
   "metadata": {
    "collapsed": false
   },
   "outputs": [
    {
     "name": "stdout",
     "output_type": "stream",
     "text": [
      "['A', 'B', 'C']\n",
      "[5, 4, 4]\n",
      "A5B4C4\n"
     ]
    }
   ],
   "source": [
    "compress('AAAAABBBBCCCC')"
   ]
  },
  {
   "cell_type": "code",
   "execution_count": 8,
   "metadata": {
    "collapsed": false
   },
   "outputs": [
    {
     "data": {
      "text/plain": [
       "[{0: 'A'}, {1: 'l'}, {2: 'p'}, {3: 'l'}, {4: 'a'}]"
      ]
     },
     "execution_count": 8,
     "metadata": {},
     "output_type": "execute_result"
    }
   ],
   "source": [
    "[{k:v} for k,v in enumerate(\"Alpla\")]"
   ]
  },
  {
   "cell_type": "code",
   "execution_count": 34,
   "metadata": {
    "collapsed": false
   },
   "outputs": [
    {
     "name": "stdout",
     "output_type": "stream",
     "text": [
      "1\n",
      "2\n",
      "3\n",
      "4\n"
     ]
    }
   ],
   "source": [
    "a = [1,2,3,4]\n",
    "b = [5,6,7,8]\n",
    "# for l,m in zip(a,b):\n",
    "for k,v in list(zip(a,b)):\n",
    "    print(k)"
   ]
  },
  {
   "cell_type": "code",
   "execution_count": 66,
   "metadata": {
    "collapsed": false
   },
   "outputs": [
    {
     "data": {
      "text/plain": [
       "'A5B4C4'"
      ]
     },
     "execution_count": 66,
     "metadata": {},
     "output_type": "execute_result"
    }
   ],
   "source": [
    "compress('AAAAABBBBCCCC')"
   ]
  },
  {
   "cell_type": "markdown",
   "metadata": {},
   "source": [
    "# Test Your Solution"
   ]
  },
  {
   "cell_type": "code",
   "execution_count": 57,
   "metadata": {
    "collapsed": false
   },
   "outputs": [
    {
     "name": "stdout",
     "output_type": "stream",
     "text": [
      "[]\n",
      "[]\n",
      "['A', 'B', 'C']\n",
      "[2, 2, 2]\n",
      "['A', 'B', 'C', 'D']\n",
      "[3, 1, 2, 5]\n",
      "ALL TEST CASES PASSED\n"
     ]
    }
   ],
   "source": [
    "\"\"\"\n",
    "RUN THIS CELL TO TEST YOUR SOLUTION\n",
    "\"\"\"\n",
    "from nose.tools import assert_equal\n",
    "\n",
    "class TestCompress(object):\n",
    "\n",
    "    def test(self, sol):\n",
    "        assert_equal(sol(''), '')\n",
    "        assert_equal(sol('AABBCC'), 'A2B2C2')\n",
    "        assert_equal(sol('AAABCCDDDDD'), 'A3B1C2D5')\n",
    "        print ('ALL TEST CASES PASSED')\n",
    "\n",
    "# Run Tests\n",
    "t = TestCompress()\n",
    "t.test(compress)"
   ]
  },
  {
   "cell_type": "markdown",
   "metadata": {},
   "source": [
    "## Good Job!"
   ]
  }
 ],
 "metadata": {
  "kernelspec": {
   "display_name": "Python [conda env:Anaconda]",
   "language": "python",
   "name": "conda-env-Anaconda-py"
  },
  "language_info": {
   "codemirror_mode": {
    "name": "ipython",
    "version": 3
   },
   "file_extension": ".py",
   "mimetype": "text/x-python",
   "name": "python",
   "nbconvert_exporter": "python",
   "pygments_lexer": "ipython3",
   "version": "3.6.0"
  }
 },
 "nbformat": 4,
 "nbformat_minor": 0
}
