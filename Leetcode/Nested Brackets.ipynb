{
 "cells": [
  {
   "cell_type": "code",
   "execution_count": 9,
   "metadata": {
    "collapsed": false
   },
   "outputs": [
    {
     "name": "stdout",
     "output_type": "stream",
     "text": [
      "Test 0 Failed\n",
      "Test 1 Passed\n",
      "Test 2 Passed\n",
      "Test 3 Passed\n"
     ]
    },
    {
     "data": {
      "text/plain": [
       "'*** 1 test failed ***'"
      ]
     },
     "execution_count": 9,
     "metadata": {},
     "output_type": "execute_result"
    }
   ],
   "source": [
    "def check_nested(s):\n",
    "    stack = []\n",
    "    for e in s:\n",
    "        if e == '(':\n",
    "            stack.append(e)\n",
    "        elif e == ')':\n",
    "            if len(stack) > 0:\n",
    "                stack.pop()\n",
    "            else:\n",
    "                return False\n",
    "    return True\n",
    "\n",
    "def testing_function(fn,inp,op):\n",
    "    test_failed = False\n",
    "    num_cases_failed = 0\n",
    "    for i in range(len(inp)):\n",
    "        if fn(inp[i]) != op[i]:\n",
    "            print( \"Test %d Failed\" % i)\n",
    "            test_failed = True\n",
    "            num_cases_failed += 1\n",
    "        else:\n",
    "            print( \"Test %d Passed\" % i)\n",
    "    if not test_failed:\n",
    "        return \"********* All Tests Passed ************\"\n",
    "    else:\n",
    "        return \"*** %d test failed ***\" % num_cases_failed\n",
    "\n",
    "inputs = ['(()()()()()))))','()()()()()()()()()()','((((((((()))))))))','()()()()()))))((((((((((())))))))))))))))))))))))))))))((((((((((()))))))))))))))))))))))))))))))))))))))))))))))))']\n",
    "outputs = [True,True,True,False]\n",
    "testing_function(check_nested,inputs,outputs)"
   ]
  },
  {
   "cell_type": "code",
   "execution_count": null,
   "metadata": {
    "collapsed": true
   },
   "outputs": [],
   "source": []
  }
 ],
 "metadata": {
  "kernelspec": {
   "display_name": "Python [conda root]",
   "language": "python",
   "name": "conda-root-py"
  },
  "language_info": {
   "codemirror_mode": {
    "name": "ipython",
    "version": 3
   },
   "file_extension": ".py",
   "mimetype": "text/x-python",
   "name": "python",
   "nbconvert_exporter": "python",
   "pygments_lexer": "ipython3",
   "version": "3.6.0"
  }
 },
 "nbformat": 4,
 "nbformat_minor": 2
}
